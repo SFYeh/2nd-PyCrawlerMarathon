{
 "cells": [
  {
   "cell_type": "markdown",
   "metadata": {},
   "source": [
    "# PTT 網路爬蟲實作練習\n",
    "\n",
    "\n",
    "* 能夠利用 Request + BeatifulSour 撰寫爬蟲，並存放到合適的資料結構\n"
   ]
  },
  {
   "cell_type": "markdown",
   "metadata": {},
   "source": [
    "## 作業目標\n",
    "\n",
    "* ① 印出第一頁列表所有文章的「作者」「標題」「時間」\n",
    "* ② 印出最新文章的「作者」「標題」「時間」(從列表內頁+時間排序)\n",
    "* ③ 試著爬爬看八卦版的文章 (繞過cookie)"
   ]
  },
  {
   "cell_type": "markdown",
   "metadata": {},
   "source": [
    "### ① 印出第一頁列表所有文章的「作者」「標題」「時間」# random order"
   ]
  },
  {
   "cell_type": "code",
   "execution_count": 84,
   "metadata": {},
   "outputs": [
    {
     "name": "stdout",
     "output_type": "stream",
     "text": [
      "[花邊] 勇士全隊誰最像喬丹？柯爾答案不是柯瑞\n",
      "作者: Vicky\n",
      "日期  4/03\n",
      "[花邊] 挑湖人舊比賽當教材 黃蜂上下讚嘆拜能昔日身手\n",
      "作者: thnlkj0665\n",
      "日期  4/03\n",
      "Re: [情報] Butler 透露被公牛交易後在巴黎花了100萬\n",
      "作者: lwy012018\n",
      "日期  4/03\n",
      "[專欄] 半人半神將回歸凡間 卡特值得更好的謝幕\n",
      "作者: hvariables\n",
      "日期  4/03\n",
      "Re: [新聞] 林書豪出關哈登照 豪迷驚：怎變大叔\n",
      "作者: NoAfraid\n",
      "日期  4/03\n",
      "[新聞] 隔離生活好忙碌 海沃德陪女兒看《冰雪奇緣\n",
      "作者: Gotham\n",
      "日期  4/03\n",
      "[新聞] 看好狀元威廉森  MVP與名人堂是他的上限\n",
      "作者: PttGod\n",
      "日期  4/03\n",
      "[花邊] 詹皇和喬丹的最大差別 前隊友休斯：垃圾話\n",
      "作者: Intelnet\n",
      "日期  4/03\n",
      "[情報] Kobe Duncan Garnett入選名人堂\n",
      "作者: Bainite\n",
      "日期  4/04\n",
      "[BOX ] #1 Durant 62:78 #16 Jones Jr.\n",
      "作者: Malpais\n",
      "日期  4/04\n",
      "[花邊] ESPN秀陣容圖：五個Curry打五個字母哥\n",
      "作者: PttGod\n",
      "日期  4/04\n",
      "[公告] 板規v6.8\n",
      "作者: Vedan\n",
      "日期  5/24\n",
      "[公告] 版主上任相關事項 \n",
      "作者: qazwsx879345\n",
      "日期 10/25\n",
      "[情報] SEASON Schedule 賽程 March 19–20\n",
      "作者: Acetoxy\n",
      "日期  3/02\n",
      "[公告] 第一次被退文，可在三天後刪除退文\n",
      "作者: Vedan\n",
      "日期  3/09\n",
      "[公告] 板務說明 (發錢)\n",
      "作者: Vedan\n",
      "日期  4/03\n"
     ]
    }
   ],
   "source": [
    "import requests\n",
    "from bs4 import BeautifulSoup\n",
    "\n",
    "url = 'https://www.ptt.cc/bbs/NBA/index.html'\n",
    "r = requests.get(url)\n",
    "soup = BeautifulSoup(r.text, \"html5lib\")\n",
    "for d in soup.find_all(class_=\"r-ent\"): #list\n",
    "    #list內只能用find，因為他是一個一個找\n",
    "    print(d.find(class_=\"title\").text.replace('\\t','').replace('\\n', '')) \n",
    "    print(\"作者:\",d.find(class_=\"author\").text)\n",
    "    print(\"日期\",d.find(class_=\"date\").text)"
   ]
  },
  {
   "cell_type": "markdown",
   "metadata": {},
   "source": [
    "### ② 印出最新文章的「作者」「標題」「時間」"
   ]
  },
  {
   "cell_type": "code",
   "execution_count": 85,
   "metadata": {},
   "outputs": [],
   "source": [
    "#因為原始的資料難以判斷「新/舊」，因此我們必須進入內頁抓取詳細的時間，最終存成 List of Dict 的形式再自行排序。\n",
    "\n",
    "posts = []\n",
    "\n",
    "for d in soup.find_all(class_=\"title\"):\n",
    "    try:\n",
    "        post = {}\n",
    "        post['Title'] = d.text.replace('\\t', '').replace('\\n', '')\n",
    "        r = BeautifulSoup(requests.get('https://www.ptt.cc'+d.find('a')['href']).text, \"html5lib\")\n",
    "        post['Author'] = r.find(class_='article-meta-value').text\n",
    "        post['Time'] = r.find_all(class_='article-meta-value')[-1].text\n",
    "        posts.append(post)\n",
    "    except:\n",
    "        continue"
   ]
  },
  {
   "cell_type": "code",
   "execution_count": 86,
   "metadata": {},
   "outputs": [
    {
     "data": {
      "text/plain": [
       "[{'Title': '[公告] 板務說明 (發錢)',\n",
       "  'Author': 'Vedan (味丹)',\n",
       "  'Time': 'Fri Apr  3 01:28:00 2020'},\n",
       " {'Title': '[花邊] 勇士全隊誰最像喬丹？柯爾答案不是柯瑞',\n",
       "  'Author': 'Vicky (維琪)',\n",
       "  'Time': 'Fri Apr  3 19:20:31 2020'},\n",
       " {'Title': '[花邊] 挑湖人舊比賽當教材 黃蜂上下讚嘆拜能昔日身手',\n",
       "  'Author': 'thnlkj0665 (灰色地帶)',\n",
       "  'Time': 'Fri Apr  3 21:25:21 2020'},\n",
       " {'Title': 'Re: [情報] Butler 透露被公牛交易後在巴黎花了100萬',\n",
       "  'Author': 'lwy012018 (shift man)',\n",
       "  'Time': 'Fri Apr  3 22:48:16 2020'},\n",
       " {'Title': '[專欄] 半人半神將回歸凡間 卡特值得更好的謝幕',\n",
       "  'Author': 'hvariables (Speculative Male)',\n",
       "  'Time': 'Fri Apr  3 23:07:59 2020'},\n",
       " {'Title': 'Re: [新聞] 林書豪出關哈登照 豪迷驚：怎變大叔',\n",
       "  'Author': 'NoAfraid (小子難纏 不得安寧)',\n",
       "  'Time': 'Fri Apr  3 23:08:57 2020'},\n",
       " {'Title': '[新聞] 隔離生活好忙碌 海沃德陪女兒看《冰雪奇緣',\n",
       "  'Author': 'Gotham (萬惡之城)',\n",
       "  'Time': 'Fri Apr  3 23:57:34 2020'},\n",
       " {'Title': '[新聞] 看好狀元威廉森  MVP與名人堂是他的上限',\n",
       "  'Author': 'PttGod (PttGod)',\n",
       "  'Time': 'Fri Apr  3 23:59:14 2020'},\n",
       " {'Title': '[花邊] 詹皇和喬丹的最大差別 前隊友休斯：垃圾話',\n",
       "  'Author': 'Intelnet ()',\n",
       "  'Time': 'Fri Apr  3 23:59:45 2020'},\n",
       " {'Title': '[公告] 版主上任相關事項 ',\n",
       "  'Author': 'qazwsx879345 (Rajon Rondo)',\n",
       "  'Time': 'Fri Oct 25 10:44:03 2019'},\n",
       " {'Title': '[情報] SEASON Schedule 賽程 March 19–20',\n",
       "  'Author': 'Acetoxy (阿斯)',\n",
       "  'Time': 'Mon Mar  2 01:19:40 2020'},\n",
       " {'Title': '[公告] 第一次被退文，可在三天後刪除退文',\n",
       "  'Author': 'Vedan (味丹)',\n",
       "  'Time': 'Mon Mar  9 11:44:26 2020'},\n",
       " {'Title': '[情報] Kobe Duncan Garnett入選名人堂',\n",
       "  'Author': 'Bainite (黑羽毛 ┐(′д`)┌)',\n",
       "  'Time': 'Sat Apr  4 04:48:26 2020'},\n",
       " {'Title': '[BOX ] #1 Durant 62:78 #16 Jones Jr.',\n",
       "  'Author': 'Malpais (Malpais)',\n",
       "  'Time': 'Sat Apr  4 09:18:08 2020'},\n",
       " {'Title': '[花邊] ESPN秀陣容圖：五個Curry打五個字母哥',\n",
       "  'Author': 'PttGod (PttGod)',\n",
       "  'Time': 'Sat Apr  4 10:37:35 2020'}]"
      ]
     },
     "execution_count": 86,
     "metadata": {},
     "output_type": "execute_result"
    }
   ],
   "source": [
    "posts = sorted(posts, key= lambda x: x['Time'])\n",
    "posts #發現時間並未正確排序，因為time沒有轉datetime，所以是照字母排序"
   ]
  },
  {
   "cell_type": "code",
   "execution_count": 97,
   "metadata": {},
   "outputs": [],
   "source": [
    "#重寫一次\n",
    "#時間格式：Fri Apr  3 01:28:00 2020 --> %a %b %d %H:%M:%S %Y\n",
    "from datetime import datetime"
   ]
  },
  {
   "cell_type": "code",
   "execution_count": 98,
   "metadata": {},
   "outputs": [],
   "source": [
    "url = 'https://www.ptt.cc/bbs/NBA/index.html'\n",
    "r = requests.get(url)\n",
    "soup = BeautifulSoup(r.text, \"html5lib\")\n",
    "posts = []\n",
    "\n",
    "for d in soup.find_all(class_=\"title\"):\n",
    "    try:\n",
    "        post = {}\n",
    "        post['Title'] = d.text.replace('\\t', '').replace('\\n', '')\n",
    "        r = BeautifulSoup(requests.get('https://www.ptt.cc'+d.find('a')['href']).text, \"html5lib\")\n",
    "        post['Author'] = r.find(class_='article-meta-value').text\n",
    "        post['Time'] = datetime.strptime(r.find_all(class_='article-meta-value')[-1].text,\"%a %b  %d %H:%M:%S %Y\")\n",
    "        posts.append(post)\n",
    "    except:\n",
    "        continue"
   ]
  },
  {
   "cell_type": "code",
   "execution_count": 101,
   "metadata": {},
   "outputs": [
    {
     "data": {
      "text/plain": [
       "[{'Title': '[情報] 公牛尋找新GM，全權負責籃球決策',\n",
       "  'Author': 'driftcreator (北美漂流中)',\n",
       "  'Time': datetime.datetime(2020, 4, 4, 11, 13, 16)},\n",
       " {'Title': '[花邊] ESPN秀陣容圖：五個Curry打五個字母哥',\n",
       "  'Author': 'PttGod (PttGod)',\n",
       "  'Time': datetime.datetime(2020, 4, 4, 10, 37, 35)},\n",
       " {'Title': '[BOX ] #1 Durant 62:78 #16 Jones Jr.',\n",
       "  'Author': 'Malpais (Malpais)',\n",
       "  'Time': datetime.datetime(2020, 4, 4, 9, 18, 8)},\n",
       " {'Title': '[情報] Kobe Duncan Garnett入選名人堂',\n",
       "  'Author': 'Bainite (黑羽毛 ┐(′д`)┌)',\n",
       "  'Time': datetime.datetime(2020, 4, 4, 4, 48, 26)},\n",
       " {'Title': '[花邊] 詹皇和喬丹的最大差別 前隊友休斯：垃圾話',\n",
       "  'Author': 'Intelnet ()',\n",
       "  'Time': datetime.datetime(2020, 4, 3, 23, 59, 45)},\n",
       " {'Title': '[新聞] 看好狀元威廉森  MVP與名人堂是他的上限',\n",
       "  'Author': 'PttGod (PttGod)',\n",
       "  'Time': datetime.datetime(2020, 4, 3, 23, 59, 14)},\n",
       " {'Title': '[新聞] 隔離生活好忙碌 海沃德陪女兒看《冰雪奇緣',\n",
       "  'Author': 'Gotham (萬惡之城)',\n",
       "  'Time': datetime.datetime(2020, 4, 3, 23, 57, 34)},\n",
       " {'Title': 'Re: [新聞] 林書豪出關哈登照 豪迷驚：怎變大叔',\n",
       "  'Author': 'NoAfraid (小子難纏 不得安寧)',\n",
       "  'Time': datetime.datetime(2020, 4, 3, 23, 8, 57)},\n",
       " {'Title': '[專欄] 半人半神將回歸凡間 卡特值得更好的謝幕',\n",
       "  'Author': 'hvariables (Speculative Male)',\n",
       "  'Time': datetime.datetime(2020, 4, 3, 23, 7, 59)},\n",
       " {'Title': 'Re: [情報] Butler 透露被公牛交易後在巴黎花了100萬',\n",
       "  'Author': 'lwy012018 (shift man)',\n",
       "  'Time': datetime.datetime(2020, 4, 3, 22, 48, 16)},\n",
       " {'Title': '[花邊] 挑湖人舊比賽當教材 黃蜂上下讚嘆拜能昔日身手',\n",
       "  'Author': 'thnlkj0665 (灰色地帶)',\n",
       "  'Time': datetime.datetime(2020, 4, 3, 21, 25, 21)},\n",
       " {'Title': '[花邊] 勇士全隊誰最像喬丹？柯爾答案不是柯瑞',\n",
       "  'Author': 'Vicky (維琪)',\n",
       "  'Time': datetime.datetime(2020, 4, 3, 19, 20, 31)},\n",
       " {'Title': '[公告] 板務說明 (發錢)',\n",
       "  'Author': 'Vedan (味丹)',\n",
       "  'Time': datetime.datetime(2020, 4, 3, 1, 28)},\n",
       " {'Title': '[公告] 第一次被退文，可在三天後刪除退文',\n",
       "  'Author': 'Vedan (味丹)',\n",
       "  'Time': datetime.datetime(2020, 3, 9, 11, 44, 26)},\n",
       " {'Title': '[情報] SEASON Schedule 賽程 March 19–20',\n",
       "  'Author': 'Acetoxy (阿斯)',\n",
       "  'Time': datetime.datetime(2020, 3, 2, 1, 19, 40)},\n",
       " {'Title': '[公告] 版主上任相關事項 ',\n",
       "  'Author': 'qazwsx879345 (Rajon Rondo)',\n",
       "  'Time': datetime.datetime(2019, 10, 25, 10, 44, 3)}]"
      ]
     },
     "execution_count": 101,
     "metadata": {},
     "output_type": "execute_result"
    }
   ],
   "source": [
    "posts=sorted(posts, key= lambda x: x['Time'],reverse=True)\n",
    "posts"
   ]
  },
  {
   "cell_type": "code",
   "execution_count": 103,
   "metadata": {},
   "outputs": [
    {
     "data": {
      "text/plain": [
       "{'Title': '[情報] 公牛尋找新GM，全權負責籃球決策',\n",
       " 'Author': 'driftcreator (北美漂流中)',\n",
       " 'Time': datetime.datetime(2020, 4, 4, 11, 13, 16)}"
      ]
     },
     "execution_count": 103,
     "metadata": {},
     "output_type": "execute_result"
    }
   ],
   "source": [
    "posts[0]"
   ]
  },
  {
   "cell_type": "markdown",
   "metadata": {},
   "source": [
    "### ③ 試著爬爬看看八卦版的文章 (cookie)"
   ]
  },
  {
   "cell_type": "code",
   "execution_count": 111,
   "metadata": {},
   "outputs": [],
   "source": [
    "# 八卦版會跳轉到一個「十八歲的同意驗證頁面」須利用cookie繞過驗證\n",
    "import requests\n",
    "from bs4 import BeautifulSoup\n",
    "\n",
    "url = 'https://www.ptt.cc/bbs/Gossiping/index.html'\n",
    "r = requests.get(url, cookies={'over18': '1'})\n",
    "\n",
    "soup = BeautifulSoup(r.text, \"html5lib\")\n",
    "\n",
    "posts = []\n",
    "\n",
    "for d in soup.find_all(class_=\"title\"):\n",
    "    try:\n",
    "        post = {}\n",
    "        post['url']='https://www.ptt.cc'+d.find('a')['href']\n",
    "        post['Title'] = d.text.replace('\\t', '').replace('\\n', '')\n",
    "        \n",
    "        r = BeautifulSoup(requests.get('https://www.ptt.cc'+d.find('a')['href'], cookies={'over18': '1'}).text, \"html5lib\")\n",
    "        post['Author'] = r.find(class_='article-meta-value').text\n",
    "        post['Time'] = datetime.strptime(r.find_all(class_='article-meta-value')[-1].text, \"%a %b %d %H:%M:%S %Y\")\n",
    "        posts.append(post)\n",
    "    except:\n",
    "        continue\n",
    "        \n",
    "posts = sorted(posts, key= lambda x: x['Time'],reverse=True)"
   ]
  },
  {
   "cell_type": "code",
   "execution_count": 112,
   "metadata": {},
   "outputs": [
    {
     "data": {
      "text/plain": [
       "{'url': 'https://www.ptt.cc/bbs/Gossiping/M.1585970705.A.D17.html',\n",
       " 'Title': '[問卦] 兔子牙的八卦?',\n",
       " 'Author': 'Godfrey0216 (Godfrey)',\n",
       " 'Time': datetime.datetime(2020, 4, 4, 11, 25, 3)}"
      ]
     },
     "execution_count": 112,
     "metadata": {},
     "output_type": "execute_result"
    }
   ],
   "source": [
    "#最新文章\n",
    "posts[0]"
   ]
  },
  {
   "cell_type": "code",
   "execution_count": 139,
   "metadata": {},
   "outputs": [],
   "source": [
    "#印出最新文章內容\n",
    "url =posts[0]['url']\n",
    "r = requests.get(url, cookies={'over18': '1'})\n",
    "soup = BeautifulSoup(r.text, \"html5lib\")"
   ]
  },
  {
   "cell_type": "code",
   "execution_count": 144,
   "metadata": {},
   "outputs": [
    {
     "data": {
      "text/plain": [
       "'作者Godfrey0216 (Godfrey)看板Gossiping標題[問卦] 兔子牙的八卦?時間Sat Apr  4 11:25:03 2020\\n\\n\\n      馮提莫退隱之後,下一個崛起的就是兔子牙了!!可是感覺兔子牙是走\\n\\n      親合甜美路線,我是覺得馮好像小贏一點,覺得這後浪有點沒推翻前浪~~\\n\\n--\\n※ 發信站: 批踢踢實業坊(ptt.cc), 來自: 61.57.109.86 (臺灣)\\n※ 文章網址: https://www.ptt.cc/bbs/Gossiping/M.1585970705.A.D17.html\\n噓 Silent: 這裡是八 04/04 11:25\\n→ love0504: 誰 04/04 11:25\\n推 eric88888: 五樓肛門長牙 04/04 11:25\\n噓 omfg5487: 沒卦 04/04 11:25\\n→ ohrring: 暴牙啊幹 04/04 11:27\\n'"
      ]
     },
     "execution_count": 144,
     "metadata": {},
     "output_type": "execute_result"
    }
   ],
   "source": [
    "soup.find(id=\"main-content\").text"
   ]
  }
 ],
 "metadata": {
  "kernelspec": {
   "display_name": "Python 3",
   "language": "python",
   "name": "python3"
  },
  "language_info": {
   "codemirror_mode": {
    "name": "ipython",
    "version": 3
   },
   "file_extension": ".py",
   "mimetype": "text/x-python",
   "name": "python",
   "nbconvert_exporter": "python",
   "pygments_lexer": "ipython3",
   "version": "3.7.4"
  }
 },
 "nbformat": 4,
 "nbformat_minor": 2
}
