{
 "cells": [
  {
   "cell_type": "markdown",
   "metadata": {},
   "source": [
    "# PTT 網路爬蟲實作練習\n",
    "\n",
    "\n",
    "* 能夠利用 Request + BeatifulSour 撰寫爬蟲，並存放到合適的資料結構\n"
   ]
  },
  {
   "cell_type": "markdown",
   "metadata": {},
   "source": [
    "## 作業目標\n",
    "\n",
    "根據範例 ，完成以下問題：\n",
    "\n",
    "* ① 印出第一頁列表所有文章的「作者」「標題」「時間」\n",
    "* ② 印出最新文章的「作者」「標題」「時間」\n",
    "* ③ 試著爬爬看其他版的文章+從列表開始爬，印出最新文章內容\n"
   ]
  },
  {
   "cell_type": "markdown",
   "metadata": {},
   "source": [
    "### ① 印出第一頁列表所有文章的「作者」「標題」「時間」"
   ]
  },
  {
   "cell_type": "code",
   "execution_count": 34,
   "metadata": {},
   "outputs": [
    {
     "name": "stdout",
     "output_type": "stream",
     "text": [
      "[花邊] Kobe曾將Pierce奪冠照片放在皮包激勵自己\n",
      "作者: Myosotis\n",
      "日期  4/02\n",
      "[情報] LBJ 考慮分析自己生涯的難忘時刻跟比賽\n",
      "作者: thnlkj0665\n",
      "日期  4/02\n",
      "[討論] NBA 在YT靠重播賽事可以回本多少？\n",
      "作者: andy880913\n",
      "日期  4/02\n",
      "[新聞] 籃網總管傳來佳音 染疫4人已無症狀\n",
      "作者: takechance\n",
      "日期  4/02\n",
      "[花邊] 尼克楊：建議政府把不隔離的人刪IG帳號\n",
      "作者: Yui5\n",
      "日期  4/02\n",
      "[新聞] 誰是暴龍隊史一哥 德羅展：席亞康將超越羅\n",
      "作者: Gotham\n",
      "日期  4/02\n",
      "[公告] 板務說明 (發錢)\n",
      "作者: Vedan\n",
      "日期  4/03\n",
      "[情報] LaMelo Ball跟經紀人買下澳職球隊\n",
      "作者: BradleyBeal\n",
      "日期  4/03\n",
      "[花邊] 詹姆斯轉發曬照回顧自己16年的火鍋以\n",
      "作者: ghost069\n",
      "日期  4/03\n",
      "[討論] 誰是你心目中最強的鋼砲後衛?\n",
      "作者: newchina\n",
      "日期  4/03\n",
      "[花邊] 歐尼爾：誰是史上最佳二人組？\n",
      "作者: PttGod\n",
      "日期  4/03\n",
      "[花邊]誤發涉嫌種族歧視影片 唐西奇急致歉求諒\n",
      "作者: sodistrues\n",
      "日期  4/03\n",
      "[問卷] 職業籃球聯賽觀眾進場因素研究\n",
      "作者: xyucou\n",
      "日期  4/03\n",
      "[情報] Dinwiddie談引進第三巨頭：我們已經有了\n",
      "作者: PttGod\n",
      "日期  4/03\n",
      "[新聞] 牽線紐約買千萬口罩 馬布瑞竟遭中國網友\n",
      "作者: haehae311444\n",
      "日期  4/03\n",
      "[情報] Butler 透露被公牛交易後在巴黎花了100萬\n",
      "作者: thnlkj0665\n",
      "日期  4/03\n",
      "[新聞] 林書豪出關哈登照 豪迷驚：怎變大叔\n",
      "作者: stu60001\n",
      "日期  4/03\n",
      "[新聞] 保羅暢談往事：離開快艇後更欣賞葛里芬\n",
      "作者: asdf1256\n",
      "日期  4/03\n",
      "[討論] 此次休賽哪隊是最大贏家、輸家？\n",
      "作者: Expiation\n",
      "日期  4/03\n",
      "[情報] NBA 2K Tournament 冠軍賠率\n",
      "作者: robinkidd\n",
      "日期  4/03\n",
      "[公告] 板規v6.8\n",
      "作者: Vedan\n",
      "日期  5/24\n",
      "[公告] 版主上任相關事項 \n",
      "作者: qazwsx879345\n",
      "日期 10/25\n",
      "[情報] SEASON Schedule 賽程 March 19–20\n",
      "作者: Acetoxy\n",
      "日期  3/02\n",
      "[公告] 第一次被退文，可在三天後刪除退文\n",
      "作者: Vedan\n",
      "日期  3/09\n",
      "[公告] 板務說明 (發錢)\n",
      "作者: Vedan\n",
      "日期  4/03\n"
     ]
    }
   ],
   "source": [
    "import requests\n",
    "from bs4 import BeautifulSoup\n",
    "\n",
    "url = 'https://www.ptt.cc/bbs/NBA/index.html'\n",
    "r = requests.get(url)\n",
    "soup = BeautifulSoup(r.text, \"html5lib\")\n",
    "for d in soup.find_all(class_=\"r-ent\"): #list\n",
    "    #list內只能用find，因為他是一個一個找\n",
    "    print(d.find(class_=\"title\").text.replace('\\t','').replace('\\n', '')) \n",
    "    print(\"作者:\",d.find(class_=\"author\").text)\n",
    "    print(\"日期\",d.find(class_=\"date\").text)"
   ]
  },
  {
   "cell_type": "markdown",
   "metadata": {},
   "source": [
    "### ② 印出最新文章的「作者」「標題」「時間」"
   ]
  },
  {
   "cell_type": "code",
   "execution_count": null,
   "metadata": {},
   "outputs": [],
   "source": [
    "'''\n",
    "Your Code\n",
    "'''\n",
    "for d in soup.find_all(class_=\"r-ent\"): #list\n",
    "    #list內只能用find，因為他是一個一個找\n",
    "    print(d.find(class_=\"title\").text.replace('\\t','').replace('\\n', '')) \n",
    "    print(\"作者:\",d.find(class_=\"author\").text)\n",
    "    print(\"日期\",d.find(class_=\"date\").text)"
   ]
  },
  {
   "cell_type": "markdown",
   "metadata": {},
   "source": [
    "### ③ 試著爬爬看其他版的文章+從列表開始爬，印出最新文章內容"
   ]
  },
  {
   "cell_type": "code",
   "execution_count": null,
   "metadata": {},
   "outputs": [],
   "source": [
    "'''\n",
    "Your Code\n",
    "'''"
   ]
  }
 ],
 "metadata": {
  "kernelspec": {
   "display_name": "Python 3",
   "language": "python",
   "name": "python3"
  },
  "language_info": {
   "codemirror_mode": {
    "name": "ipython",
    "version": 3
   },
   "file_extension": ".py",
   "mimetype": "text/x-python",
   "name": "python",
   "nbconvert_exporter": "python",
   "pygments_lexer": "ipython3",
   "version": "3.7.4"
  }
 },
 "nbformat": 4,
 "nbformat_minor": 2
}
