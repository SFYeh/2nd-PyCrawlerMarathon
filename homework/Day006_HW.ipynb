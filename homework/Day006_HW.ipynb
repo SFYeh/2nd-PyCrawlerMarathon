{
 "cells": [
  {
   "cell_type": "markdown",
   "metadata": {},
   "source": [
    "# API 資料串接 - 以 知乎 API 實作範例\n",
    "\n",
    "\n",
    "\n",
    "* 了解知乎 API 使用方式與回傳內容\n",
    "* 撰寫程式存取 API 且添加標頭\n",
    "\n",
    "\n"
   ]
  },
  {
   "cell_type": "markdown",
   "metadata": {},
   "source": [
    "## 作業目標\n",
    "\n",
    "* 根據範例提供的 API ，完成以下問題：\n",
    "\n",
    "    1. 取出知乎問題發問時間\n",
    "    2. 取出第一筆與最後一筆回答的時間\n"
   ]
  },
  {
   "cell_type": "code",
   "execution_count": 10,
   "metadata": {},
   "outputs": [],
   "source": [
    "import requests\n",
    "headers = {'user-agent': 'my-app/0.0.1'}\n",
    "r = requests.get('https://www.zhihu.com/api/v4/questions/55493026/answers',headers=headers)\n",
    "response = r.text\n",
    "import json\n",
    "data = json.loads(response)"
   ]
  },
  {
   "cell_type": "code",
   "execution_count": 15,
   "metadata": {},
   "outputs": [
    {
     "data": {
      "text/plain": [
       "dict"
      ]
     },
     "execution_count": 15,
     "metadata": {},
     "output_type": "execute_result"
    }
   ],
   "source": [
    "type(data)"
   ]
  },
  {
   "cell_type": "code",
   "execution_count": 4,
   "metadata": {},
   "outputs": [
    {
     "data": {
      "text/plain": [
       "dict_keys(['data', 'paging'])"
      ]
     },
     "execution_count": 4,
     "metadata": {},
     "output_type": "execute_result"
    }
   ],
   "source": [
    "data.keys()"
   ]
  },
  {
   "cell_type": "code",
   "execution_count": 14,
   "metadata": {},
   "outputs": [
    {
     "data": {
      "text/plain": [
       "list"
      ]
     },
     "execution_count": 14,
     "metadata": {},
     "output_type": "execute_result"
    }
   ],
   "source": [
    "type(data['data'])"
   ]
  },
  {
   "cell_type": "code",
   "execution_count": 18,
   "metadata": {
    "scrolled": true
   },
   "outputs": [
    {
     "data": {
      "text/plain": [
       "{'id': 683070334,\n",
       " 'type': 'answer',\n",
       " 'answer_type': 'normal',\n",
       " 'question': {'type': 'question',\n",
       "  'id': 55493026,\n",
       "  'title': '你们都是怎么学 Python 的？',\n",
       "  'question_type': 'normal',\n",
       "  'created': 1486390229,\n",
       "  'updated_time': 1582533957,\n",
       "  'url': 'https://www.zhihu.com/api/v4/questions/55493026',\n",
       "  'relationship': {}},\n",
       " 'author': {'id': '36f69162230003d316d0b8a6d8da20ba',\n",
       "  'url_token': 'liang-zi-wei-48',\n",
       "  'name': '量子位',\n",
       "  'avatar_url': 'https://pic4.zhimg.com/v2-ca6e7ffc10a0d10edbae635cee82d007_is.jpg',\n",
       "  'avatar_url_template': 'https://pic4.zhimg.com/v2-ca6e7ffc10a0d10edbae635cee82d007_{size}.jpg',\n",
       "  'is_org': True,\n",
       "  'type': 'people',\n",
       "  'url': 'https://www.zhihu.com/api/v4/people/36f69162230003d316d0b8a6d8da20ba',\n",
       "  'user_type': 'organization',\n",
       "  'headline': '有趣的AI&amp;前沿科技→_→ 公众号：QbitAI',\n",
       "  'badge': [{'type': 'identity', 'description': '已认证的官方帐号', 'topics': []},\n",
       "   {'type': 'best_answerer', 'description': '优秀回答者', 'topics': []}],\n",
       "  'gender': -1,\n",
       "  'is_advertiser': False,\n",
       "  'is_privacy': False},\n",
       " 'url': 'https://www.zhihu.com/api/v4/answers/683070334',\n",
       " 'is_collapsed': False,\n",
       " 'created_time': 1557824412,\n",
       " 'updated_time': 1557824412,\n",
       " 'extras': '',\n",
       " 'is_copyable': True,\n",
       " 'relationship': {'upvoted_followees': []},\n",
       " 'ad_answer': None}"
      ]
     },
     "execution_count": 18,
     "metadata": {},
     "output_type": "execute_result"
    }
   ],
   "source": [
    "data['data'][0]"
   ]
  },
  {
   "cell_type": "markdown",
   "metadata": {},
   "source": [
    "### 1. 取出知乎問題發問時間"
   ]
  },
  {
   "cell_type": "code",
   "execution_count": 25,
   "metadata": {
    "scrolled": true
   },
   "outputs": [
    {
     "name": "stdout",
     "output_type": "stream",
     "text": [
      "1486390229 \n",
      "\n",
      "1486390229\n",
      "1486390229\n",
      "1486390229\n",
      "1486390229\n",
      "1486390229\n"
     ]
    }
   ],
   "source": [
    "# 1. 取出知乎問題發問時間\n",
    "#取出第一個\n",
    "question_time = data['data'][0]['question']['created']\n",
    "print(question_time,'\\n')\n",
    "\n",
    "#檢視全部\n",
    "for d in data['data']:\n",
    "    print(d['question']['created'])"
   ]
  },
  {
   "cell_type": "code",
   "execution_count": 26,
   "metadata": {},
   "outputs": [
    {
     "data": {
      "text/plain": [
       "int"
      ]
     },
     "execution_count": 26,
     "metadata": {},
     "output_type": "execute_result"
    }
   ],
   "source": [
    "type(question_time )"
   ]
  },
  {
   "cell_type": "code",
   "execution_count": 27,
   "metadata": {},
   "outputs": [
    {
     "name": "stdout",
     "output_type": "stream",
     "text": [
      "2017-02-06 22:10:29\n",
      "2017-02-06 22:10:29\n",
      "2017-02-06 22:10:29\n",
      "2017-02-06 22:10:29\n",
      "2017-02-06 22:10:29\n"
     ]
    }
   ],
   "source": [
    "#補充: Timestamp 轉成 時間\n",
    "from datetime import datetime\n",
    "for d in data['data']:\n",
    "    print(datetime.fromtimestamp(d['question']['created']))"
   ]
  },
  {
   "cell_type": "markdown",
   "metadata": {},
   "source": [
    "### 2. 取出第一筆與最後一筆回答的時間"
   ]
  },
  {
   "cell_type": "code",
   "execution_count": 56,
   "metadata": {},
   "outputs": [
    {
     "data": {
      "text/plain": [
       "dict"
      ]
     },
     "execution_count": 56,
     "metadata": {},
     "output_type": "execute_result"
    }
   ],
   "source": [
    "type(data)"
   ]
  },
  {
   "cell_type": "code",
   "execution_count": 28,
   "metadata": {},
   "outputs": [
    {
     "data": {
      "text/plain": [
       "list"
      ]
     },
     "execution_count": 28,
     "metadata": {},
     "output_type": "execute_result"
    }
   ],
   "source": [
    "type(data['data'])"
   ]
  },
  {
   "cell_type": "code",
   "execution_count": 47,
   "metadata": {},
   "outputs": [],
   "source": [
    "sort_data=sorted(data['data'],key = lambda s: s['created_time'])"
   ]
  },
  {
   "cell_type": "code",
   "execution_count": 55,
   "metadata": {},
   "outputs": [
    {
     "data": {
      "text/plain": [
       "list"
      ]
     },
     "execution_count": 55,
     "metadata": {},
     "output_type": "execute_result"
    }
   ],
   "source": [
    "type(sort_data)"
   ]
  },
  {
   "cell_type": "code",
   "execution_count": 52,
   "metadata": {},
   "outputs": [
    {
     "data": {
      "text/plain": [
       "1557824412"
      ]
     },
     "execution_count": 52,
     "metadata": {},
     "output_type": "execute_result"
    }
   ],
   "source": [
    "data['data'][0]['created_time']"
   ]
  },
  {
   "cell_type": "code",
   "execution_count": 59,
   "metadata": {
    "scrolled": true
   },
   "outputs": [
    {
     "data": {
      "text/plain": [
       "1493693113"
      ]
     },
     "execution_count": 59,
     "metadata": {},
     "output_type": "execute_result"
    }
   ],
   "source": [
    "sort_data[0]['created_time']"
   ]
  },
  {
   "cell_type": "code",
   "execution_count": 61,
   "metadata": {},
   "outputs": [
    {
     "name": "stdout",
     "output_type": "stream",
     "text": [
      "1493693113\n",
      "2017-05-02 10:45:13 \n",
      "\n",
      "1572318426\n",
      "2019-10-29 11:07:06\n"
     ]
    }
   ],
   "source": [
    "# 2. 取出第一筆與最後一筆回答的時間\n",
    "first_answer_time = sort_data[0]['created_time']\n",
    "\n",
    "latest = 0\n",
    "for row in sort_data:\n",
    "    if row['created_time'] > latest:\n",
    "        latest_answer_time = row['created_time']\n",
    "\n",
    "print(first_answer_time)\n",
    "first_answer_time_date = datetime.fromtimestamp(first_answer_time)\n",
    "print(first_answer_time_date,'\\n')\n",
    "\n",
    "print(latest_answer_time)\n",
    "latest_answer_time_date = datetime.fromtimestamp(latest_answer_time)\n",
    "print(latest_answer_time_date)"
   ]
  }
 ],
 "metadata": {
  "kernelspec": {
   "display_name": "Python 3",
   "language": "python",
   "name": "python3"
  },
  "language_info": {
   "codemirror_mode": {
    "name": "ipython",
    "version": 3
   },
   "file_extension": ".py",
   "mimetype": "text/x-python",
   "name": "python",
   "nbconvert_exporter": "python",
   "pygments_lexer": "ipython3",
   "version": "3.7.4"
  }
 },
 "nbformat": 4,
 "nbformat_minor": 2
}
